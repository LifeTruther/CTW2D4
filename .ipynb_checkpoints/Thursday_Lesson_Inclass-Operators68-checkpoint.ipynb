{
 "cells": [
  {
   "cell_type": "markdown",
   "metadata": {},
   "source": [
    "# Object-Oriented-Programming (OOP)"
   ]
  },
  {
   "cell_type": "markdown",
   "metadata": {},
   "source": [
    "## Tasks Today:\n",
    "\n",
    "   \n",
    "\n",
    "1) <b>Creating a Class (Initializing/Declaring)</b> <br>\n",
    "2) <b>Using a Class (Instantiating)</b> <br>\n",
    " &nbsp;&nbsp;&nbsp;&nbsp; a) Creating One Instance <br>\n",
    " &nbsp;&nbsp;&nbsp;&nbsp; b) Creating Multiple Instances <br>\n",
    " &nbsp;&nbsp;&nbsp;&nbsp; c) In-Class Exercise #1 - Create a Class 'Car' and instantiate three different makes of cars <br>\n",
    "3) <b>The \\__init\\__() Method</b> <br>\n",
    " &nbsp;&nbsp;&nbsp;&nbsp; a) The 'self' Attribute <br>\n",
    "4) <b>Class Attributes</b> <br>\n",
    " &nbsp;&nbsp;&nbsp;&nbsp; a) Initializing Attributes <br>\n",
    " &nbsp;&nbsp;&nbsp;&nbsp; b) Setting an Attribute Outside of the \\__init\\__() Method <br>\n",
    " &nbsp;&nbsp;&nbsp;&nbsp; c) Setting Defaults for Attributes <br>\n",
    " &nbsp;&nbsp;&nbsp;&nbsp; d) Accessing Class Attributes <br>\n",
    " &nbsp;&nbsp;&nbsp;&nbsp; e) Changing Class Attributes <br>\n",
    " &nbsp;&nbsp;&nbsp;&nbsp; f) In-Class Exercise #2 - Add a color and wheels attribute to your 'Car' class <br>\n",
    "5) <b>Class Methods</b> <br>\n",
    " &nbsp;&nbsp;&nbsp;&nbsp; a) Creating <br>\n",
    " &nbsp;&nbsp;&nbsp;&nbsp; b) Calling <br>\n",
    " &nbsp;&nbsp;&nbsp;&nbsp; c) Modifying an Attribute's Value Through a Method <br>\n",
    " &nbsp;&nbsp;&nbsp;&nbsp; d) Incrementing an Attribute's Value Through a Method <br>\n",
    " &nbsp;&nbsp;&nbsp;&nbsp; e) In-Class Exercise #3 - Add a method that prints the cars color and wheel number, then call them <br>\n",
    "6) <b>Inheritance</b> <br>\n",
    " &nbsp;&nbsp;&nbsp;&nbsp; a) Syntax for Inheriting from a Parent Class <br>\n",
    " &nbsp;&nbsp;&nbsp;&nbsp; b) The \\__init\\__() Method for a Child Class (super()) <br>\n",
    " &nbsp;&nbsp;&nbsp;&nbsp; c) Defining Attributes and Methods for the Child Class <br>\n",
    " &nbsp;&nbsp;&nbsp;&nbsp; d) Method Overriding <br>\n",
    " &nbsp;&nbsp;&nbsp;&nbsp; e) In-Class Exercise #4 - Create a class 'Ford' that inherits from 'Car' class and initialize it as a Blue Ford Explorer with 4 wheels using the super() method <br>\n",
    "7) <b>Classes as Attributes</b> <br>\n",
    "8) <b>Exercises</b> <br>\n",
    " &nbsp;&nbsp;&nbsp;&nbsp; a) Exercise #1 - Turn the shopping cart program from yesterday into an object-oriented program <br>"
   ]
  },
  {
   "cell_type": "markdown",
   "metadata": {},
   "source": [
    "### In Class Shopping Cart Example"
   ]
  },
  {
   "cell_type": "code",
   "execution_count": 3,
   "metadata": {},
   "outputs": [],
   "source": [
    "from IPython.display import clear_output\n",
    "\n",
    "cart = []\n",
    "\n",
    "# Adding Item to cart\n",
    "\n",
    "def addItem(item):\n",
    "    clear_output()\n",
    "    cart.append(item)\n",
    "\n",
    "# Remove from cart\n",
    "\n",
    "def removeItem(item):\n",
    "    clear_output()\n",
    "    cart.remove(item)\n",
    "\n",
    "def showCart():\n",
    "    clear_output()\n",
    "    print(\"Here is your cart...\")\n",
    "    for item in cart:\n",
    "        print(item)\n",
    "        \n",
    "def clearCart():\n",
    "    print('Your cart is now empty...')\n",
    "    cart.clear()\n",
    "    \n",
    "# Program putting it all together:\n",
    "def shoppingCart():\n",
    "    while True:\n",
    "        response = input(\"What would you like to do? Add / remove / show / clear your cart:\")\n",
    "        if response.lower() == 'quit':\n",
    "            print(\"Thanks for shopping with us\")\n",
    "            showCart()\n",
    "            break\n",
    "        elif response.lower() == 'add':\n",
    "            item_resp = input('What would you like to add?')\n",
    "            addItem(item_resp)\n",
    "        elif response.lower() == 'remove':\n",
    "            showCart()\n",
    "            remove_resp = input(\"What would you like to remove?\")\n",
    "            removeItem(remove_resp)\n",
    "        elif response.lower() == 'show':\n",
    "            showCart()\n",
    "        elif response.lower() == 'clear':\n",
    "            clearCart()"
   ]
  },
  {
   "cell_type": "markdown",
   "metadata": {},
   "source": [
    "## Creating a Class (Initializing/Declaring)\n",
    "<p>When creating a class, function, or even a variable you are initializing that object. Initializing and Declaring occur at the same time in Python, whereas in lower level languages you have to declare an object before initializing it. This is the first step in the process of using a class.</p>"
   ]
  },
  {
   "cell_type": "code",
   "execution_count": 13,
   "metadata": {},
   "outputs": [],
   "source": [
    "# could say class Car: OR class Car(): (will execute the same way)\n",
    "\n",
    "class Car():\n",
    "    wheels = 4\n",
    "    color = 'blue'\n",
    "    lifeform = 'inanimate'\n",
    "    weight = 'heavy'"
   ]
  },
  {
   "cell_type": "markdown",
   "metadata": {},
   "source": [
    "## Using a Class (Instantiating)\n",
    "<p>The process of creating a class is called <i>Instantiating</i>. Each time you create a variable of that type of class, it is referred to as an <i>Instance</i> of that class. This is the second step in the process of using a class.</p>"
   ]
  },
  {
   "cell_type": "markdown",
   "metadata": {},
   "source": [
    "##### Creating One Instance"
   ]
  },
  {
   "cell_type": "code",
   "execution_count": 11,
   "metadata": {},
   "outputs": [
    {
     "name": "stdout",
     "output_type": "stream",
     "text": [
      "it's over 9 thousand!\n"
     ]
    }
   ],
   "source": [
    "ford = Car()\n",
    "\n",
    "print(ford.min_power_level)"
   ]
  },
  {
   "cell_type": "markdown",
   "metadata": {},
   "source": [
    "##### Creating Multiple Instances"
   ]
  },
  {
   "cell_type": "code",
   "execution_count": 14,
   "metadata": {},
   "outputs": [
    {
     "name": "stdout",
     "output_type": "stream",
     "text": [
      "4\n"
     ]
    }
   ],
   "source": [
    "chevy = Car()\n",
    "honda = Car()\n",
    "lambo = Car()\n",
    "\n",
    "print(lambo.wheels)"
   ]
  },
  {
   "cell_type": "markdown",
   "metadata": {},
   "source": [
    "##### In-Class Exercise #1 - Create a Class 'Car' and Instantiate three different makes of cars"
   ]
  },
  {
   "cell_type": "code",
   "execution_count": 16,
   "metadata": {},
   "outputs": [
    {
     "name": "stdout",
     "output_type": "stream",
     "text": [
      "shiny\n"
     ]
    }
   ],
   "source": [
    "class SuperCar():\n",
    "    doors = 2\n",
    "    color = \"shiny\"\n",
    "    wheels = 4\n",
    "    sunroof = True\n",
    "    \n",
    "Veyron = SuperCar()\n",
    "Corvette = SuperCar()\n",
    "VWBus = SuperCar()\n",
    "\n",
    "print(VWBus.color)"
   ]
  },
  {
   "cell_type": "markdown",
   "metadata": {},
   "source": [
    "## The \\__init\\__() Method <br>\n",
    "<p>This method is used in almost every created class, and called only once upon the creation of the class instance. This method will initialize all variables needed for the object.</p>"
   ]
  },
  {
   "cell_type": "code",
   "execution_count": 23,
   "metadata": {},
   "outputs": [
    {
     "name": "stdout",
     "output_type": "stream",
     "text": [
      "1\n",
      "4\n",
      "18\n"
     ]
    },
    {
     "data": {
      "text/plain": [
       "{'rooftop': 3, 'horn': 3, 'wheels': 18}"
      ]
     },
     "execution_count": 23,
     "metadata": {},
     "output_type": "execute_result"
    }
   ],
   "source": [
    "# dunder = doubleunderscore-init-dunder: (__init__())\n",
    "\n",
    "class Toy_Car():\n",
    "    kind = \"Car\"\n",
    "    \n",
    "    def __init__(self, rooftop, horn, wheels):\n",
    "        self.rooftop = rooftop\n",
    "        self.horn = horn\n",
    "        self.wheels = wheels\n",
    "        \n",
    "hotwheels = Toy_Car(1,1,4)\n",
    "print(hotwheels.horn)\n",
    "print(hotwheels.wheels)   \n",
    "\n",
    "Tonka = Toy_Car(3,3,18)\n",
    "print(Tonka.wheels)\n",
    "\n",
    "Tonka.__dict__"
   ]
  },
  {
   "cell_type": "markdown",
   "metadata": {},
   "source": [
    "##### The 'self' Attribute <br>\n",
    "<p>This attribute is required to keep track of specific instance's attributes. Without the self attribute, the program would not know how to reference or keep track of an instance's attributes.</p>"
   ]
  },
  {
   "cell_type": "code",
   "execution_count": null,
   "metadata": {},
   "outputs": [],
   "source": [
    "# see above"
   ]
  },
  {
   "cell_type": "markdown",
   "metadata": {},
   "source": [
    "## Class Attributes <br>\n",
    "<p>While variables are inside of a class, they are referred to as attributes and not variables. When someone says 'attribute' you know they're speaking about a class. Attributes can be initialized through the init method, or outside of it.</p>"
   ]
  },
  {
   "cell_type": "markdown",
   "metadata": {},
   "source": [
    "##### Initializing Attributes"
   ]
  },
  {
   "cell_type": "code",
   "execution_count": 27,
   "metadata": {},
   "outputs": [],
   "source": [
    "# see above"
   ]
  },
  {
   "cell_type": "markdown",
   "metadata": {},
   "source": [
    "##### Accessing Class Attributes"
   ]
  },
  {
   "cell_type": "code",
   "execution_count": 26,
   "metadata": {
    "scrolled": true
   },
   "outputs": [
    {
     "data": {
      "text/plain": [
       "3"
      ]
     },
     "execution_count": 26,
     "metadata": {},
     "output_type": "execute_result"
    }
   ],
   "source": [
    "# See Above\n",
    "Tonka.rooftop"
   ]
  },
  {
   "cell_type": "markdown",
   "metadata": {},
   "source": [
    "##### Setting Defaults for Attributes"
   ]
  },
  {
   "cell_type": "code",
   "execution_count": 36,
   "metadata": {},
   "outputs": [
    {
     "name": "stdout",
     "output_type": "stream",
     "text": [
      "Brown\n",
      "Black\n"
     ]
    }
   ],
   "source": [
    "class Human:\n",
    "    def __init__(self,eyes,height,activity_level, hair=\"Brown\"):\n",
    "        self.eyes = eyes\n",
    "        self.height = height\n",
    "        self.hair = hair\n",
    "        self.activity = activity_level\n",
    "Nate = Human(\"blue\", 6.08, 4)\n",
    "\n",
    "print(Nate.hair)\n",
    "\n",
    "Julia = Human('brown', 5.84, True, 'Black')\n",
    "\n",
    "print(Julia.hair)"
   ]
  },
  {
   "cell_type": "markdown",
   "metadata": {},
   "source": [
    "##### Changing Class Attributes <br>\n",
    "<p>Keep in mind there are global class attributes and then there are attributes only available to each class instance which won't effect other classes.</p>"
   ]
  },
  {
   "cell_type": "code",
   "execution_count": 37,
   "metadata": {},
   "outputs": [
    {
     "name": "stdout",
     "output_type": "stream",
     "text": [
      "BEFORE change: Black\n",
      "AFTER change: Purple\n"
     ]
    }
   ],
   "source": [
    "print(f\"BEFORE change: {Julia.hair}\")\n",
    "\n",
    "Julia.hair = 'Purple'\n",
    "\n",
    "print(f\"AFTER change: {Julia.hair}\")"
   ]
  },
  {
   "cell_type": "markdown",
   "metadata": {},
   "source": [
    "##### In-Class Exercise #2 - Add a doors and seats attribute to your 'Car' class then print out two different instances with different doors and seats"
   ]
  },
  {
   "cell_type": "code",
   "execution_count": 42,
   "metadata": {},
   "outputs": [
    {
     "name": "stdout",
     "output_type": "stream",
     "text": [
      "{'doors': 2, 'seats': 4}\n",
      "{'doors': 4, 'seats': 5}\n"
     ]
    }
   ],
   "source": [
    "class Car():\n",
    "    def __init__(self,doors,seats):\n",
    "        \"\"\"he just said a bunch of crazy stuff here about \n",
    "        programs that can be instances in classes............\n",
    "        \"\"\"\n",
    "        self.doors = doors\n",
    "        self.seats = seats\n",
    "Jeep = Car(4,5)\n",
    "Mazda = Car(2,4)\n",
    "\n",
    "print(Mazda.__dict__)\n",
    "print(Jeep.__dict__)"
   ]
  },
  {
   "cell_type": "markdown",
   "metadata": {},
   "source": [
    "## Class Methods <br>\n",
    "<p>While inside of a class, functions are referred to as 'methods'. If you hear someone mention methods, they're speaking about classes. Methods are essentially functions, but only callable on the instances of a class.</p>"
   ]
  },
  {
   "cell_type": "markdown",
   "metadata": {},
   "source": [
    "##### Creating"
   ]
  },
  {
   "cell_type": "code",
   "execution_count": 72,
   "metadata": {},
   "outputs": [
    {
     "name": "stdout",
     "output_type": "stream",
     "text": [
      "can't change that capacity, SORRY\n",
      "Your current bag capacity is: 10\n",
      "None\n",
      "Your current bag capacity is: shouldbeerror\n",
      "None\n"
     ]
    }
   ],
   "source": [
    "class ShoppingBag:\n",
    "    \"\"\"\n",
    "        The shopping bag class will have handles, capacity, and items to place inside.\n",
    "        \n",
    "        Attributes for class:\n",
    "        - handles: expected to be an integer\n",
    "        - capacity:expected to be a string or integer\n",
    "        - items: expected to be a list \n",
    "    \"\"\"\n",
    "    def __init__(self, handles, capacity, items):\n",
    "        self.handles = handles\n",
    "        self.capacity = capacity\n",
    "        self.items = items\n",
    "    \n",
    "    # Method to show all items in items list\n",
    "    def showShoppingBag(self):\n",
    "        print(\"Here are the items in your bag....\")\n",
    "        for item in self.items:\n",
    "            print(item)\n",
    "    # Method to show capacity:\n",
    "    def showCapacity(self):\n",
    "        print(f'Your current bag capacity is: {self.capacity}')\n",
    "\n",
    "    # Method to add items to bag:\n",
    "    def addToShoppingBag(self):\n",
    "        product = input('What would you like to add?')\n",
    "        self.items.append(product)\n",
    "        print(f'Successfully added {product}: bag now contains {self.items}')\n",
    "        \n",
    "    # Method to change what is in bag dynamically:\n",
    "    def changeCapacity(self, capacity):\n",
    "        self.capacity = capacity\n",
    "        \n",
    "    # Method to increase capacity by 10:\n",
    "    def addCapacity(self, changed_cap = 10):\n",
    "        if isinstance(self.capacity, str):\n",
    "            print(\"can't change that capacity, SORRY\")\n",
    "        else: \n",
    "            self.capacity += changed_cap\n",
    "            \n",
    "pacsun = ShoppingBag(2,\"shouldbeerror\",[])\n",
    "pacsun.addCapacity(573)\n",
    "seveneleven = ShoppingBag(1,3,[])\n",
    "seveneleven.addCapacity(7)\n",
    "print(seveneleven.showCapacity())\n",
    "print(pacsun.showCapacity())    \n",
    "    "
   ]
  },
  {
   "cell_type": "markdown",
   "metadata": {},
   "source": [
    "##### Calling"
   ]
  },
  {
   "cell_type": "code",
   "execution_count": 67,
   "metadata": {},
   "outputs": [
    {
     "name": "stdout",
     "output_type": "stream",
     "text": [
      "What do you want to do? add/show/quitadd\n",
      "What would you like to add?oreos\n",
      "Successfully added oreos: bag now contains ['oreos']\n",
      "What do you want to do? add/show/quitquit\n",
      "Here are the items in your bag....\n",
      "oreos\n",
      "Thanks for shopping at Whole Foods!\n"
     ]
    }
   ],
   "source": [
    "# See Above\n",
    "def run():\n",
    "    whole_foods = ShoppingBag(2,10,[])\n",
    "    while True:\n",
    "        response = input(\"What do you want to do? add/show/quit\")\n",
    "        \n",
    "        if response.lower() =='quit':\n",
    "            whole_foods.showShoppingBag()\n",
    "            print(\"Thanks for shopping at Whole Foods!\")\n",
    "            break\n",
    "        elif response.lower() =='add':\n",
    "            whole_foods.addToShoppingBag()\n",
    "        elif response.lower() =='show':\n",
    "            whole_foods.showShoppingBag()\n",
    "        else:\n",
    "            print(\"That is not a valid input; please choose from the stated options.\")\n",
    "\n",
    "run()"
   ]
  },
  {
   "cell_type": "markdown",
   "metadata": {},
   "source": [
    "##### Modifying an Attribute's Value Through a Method"
   ]
  },
  {
   "cell_type": "code",
   "execution_count": 77,
   "metadata": {},
   "outputs": [
    {
     "name": "stdout",
     "output_type": "stream",
     "text": [
      "Your current bag capacity is: 50\n"
     ]
    }
   ],
   "source": [
    "mcdonalds = ShoppingBag(2,100,[])\n",
    "mcdonalds.changeCapacity(50)\n",
    "mcdonalds.showCapacity()"
   ]
  },
  {
   "cell_type": "markdown",
   "metadata": {},
   "source": [
    "##### Incrementing an Attribute's Value Through a Method"
   ]
  },
  {
   "cell_type": "code",
   "execution_count": 79,
   "metadata": {},
   "outputs": [
    {
     "name": "stdout",
     "output_type": "stream",
     "text": [
      "Your current bag capacity is: 60\n"
     ]
    }
   ],
   "source": [
    "mcdonalds.addCapacity()\n",
    "mcdonalds.showCapacity()"
   ]
  },
  {
   "cell_type": "markdown",
   "metadata": {},
   "source": [
    "##### In-Class Exercise #3 - Add a method that takes in three parameters of year, doors and seats and prints out a formatted print statement with make, model, year, seats, and doors"
   ]
  },
  {
   "cell_type": "code",
   "execution_count": 88,
   "metadata": {},
   "outputs": [
    {
     "name": "stdout",
     "output_type": "stream",
     "text": [
      "This is a Explorer, it was made in 2019, it has 4 doors and 5 seats\n"
     ]
    }
   ],
   "source": [
    "# Create class with 2 paramters inside of the __init__ which are make and model\n",
    "\n",
    "class Car:\n",
    "    def __init__(self, make, model):\n",
    "        self.make = make\n",
    "        self.model = model\n",
    "    \n",
    "    def cartype(self,year,door,seats):\n",
    "        print(f\"This is a {self.model}, it was made in {year}, it has {door} doors and {seats} seats\") \n",
    "\n",
    "Backlot2 = Car('Ford', 'Explorer')\n",
    "\n",
    "Backlot2.cartype(2019,4,5)\n",
    "\n",
    "# Inside of the Car class create a method that has 4 parameter in total (self,year,door,seats)\n",
    "\n",
    "# Output: This car is from 2019 and is a Ford Expolorer and has 4 doors and 5 seats\n",
    "\n"
   ]
  },
  {
   "cell_type": "markdown",
   "metadata": {},
   "source": [
    "## Inheritance <br>\n",
    "<p>You can create a child-parent relationship between two classes by using inheritance. What this allows you to do is have overriding methods, but also inherit traits from the parent class. Think of it as an actual parent and child, the child will inherit the parent's genes, as will the classes in OOP</p>"
   ]
  },
  {
   "cell_type": "markdown",
   "metadata": {},
   "source": [
    "##### Syntax for Inheriting from a Parent Class"
   ]
  },
  {
   "cell_type": "code",
   "execution_count": 98,
   "metadata": {},
   "outputs": [
    {
     "name": "stdout",
     "output_type": "stream",
     "text": [
      "bark\n"
     ]
    },
    {
     "data": {
      "text/plain": [
       "'Blue'"
      ]
     },
     "execution_count": 98,
     "metadata": {},
     "output_type": "execute_result"
    }
   ],
   "source": [
    "# Creation of our parent class: \"Animal\"\n",
    "\n",
    "class Animal:\n",
    "    def __init__(self, name, species, legs = 4):\n",
    "        self.name = name\n",
    "        self.species = species\n",
    "        self.legs = legs\n",
    "    \n",
    "    # Generic parent method - no override yet\n",
    "    def makeSound(self):\n",
    "        print('uuummmmmmmm')\n",
    "        \n",
    "class Dog(Animal):\n",
    "    speed = 15\n",
    "    \n",
    "    def makeSound(self):\n",
    "        print('bark')\n",
    "    \n",
    "    def printInfo(self):\n",
    "        print(f'This Dog has a speed of {self.speed} and his name is {self.name}')\n",
    "    \n",
    "griffin = Dog('Griffin', 'Australian Shepherd')\n",
    "\n",
    "griffin.makeSound()\n",
    "\n",
    "\n",
    "# Grandchild class\n",
    "class Mutt(Dog):\n",
    "    def __init__(self, name, species, eye_color, legs=4):\n",
    "        Dog.__init__(self,name,species,legs)\n",
    "        self.eye_color = eye_color\n",
    "        \n",
    "hank=Mutt('Hank','Mutt','Blue')\n",
    "hank.eye_color"
   ]
  },
  {
   "cell_type": "markdown",
   "metadata": {},
   "source": [
    "##### The \\__init\\__() Method for a Child Class - super()"
   ]
  },
  {
   "cell_type": "code",
   "execution_count": 102,
   "metadata": {
    "scrolled": true
   },
   "outputs": [
    {
     "name": "stdout",
     "output_type": "stream",
     "text": [
      "bark\n"
     ]
    }
   ],
   "source": [
    "class Yorkie(Dog):\n",
    "    def __init__(self, name, species, eye_color, legs=4):\n",
    "        super().__init__(name,species,legs)\n",
    "        self.eye_color = eye_color\n",
    "Austin = Yorkie('Austin','yorkie', 'brown',3)\n",
    "Austin.makeSound()\n",
    "\n",
    "# we just inherit the init from the grandfather class, nothing else"
   ]
  },
  {
   "cell_type": "markdown",
   "metadata": {},
   "source": [
    "##### Defining Attributes and Methods for the Child Class"
   ]
  },
  {
   "cell_type": "code",
   "execution_count": null,
   "metadata": {},
   "outputs": [],
   "source": [
    "# See Above"
   ]
  },
  {
   "cell_type": "markdown",
   "metadata": {},
   "source": [
    "##### Method Overriding"
   ]
  },
  {
   "cell_type": "code",
   "execution_count": null,
   "metadata": {},
   "outputs": [],
   "source": [
    "# See Above"
   ]
  },
  {
   "cell_type": "markdown",
   "metadata": {},
   "source": [
    "## Classes as Attributes <br>\n",
    "<p>Classes can also be used as attributes within another class. This is useful in situations where you need to keep variables locally stored, instead of globally stored.</p>"
   ]
  },
  {
   "cell_type": "code",
   "execution_count": 104,
   "metadata": {},
   "outputs": [
    {
     "data": {
      "text/plain": [
       "16"
      ]
     },
     "execution_count": 104,
     "metadata": {},
     "output_type": "execute_result"
    }
   ],
   "source": [
    "class Battery:\n",
    "    volts = 7.8\n",
    "    \n",
    "    def __init__(self,cells):\n",
    "        self.cells = cells\n",
    "\n",
    "class Car:\n",
    "    def __init__(self,make,battery):\n",
    "        self.make = make\n",
    "        self.battery = battery\n",
    "    \n",
    "batt = Battery(16)\n",
    "\n",
    "tesla = Car('tesla', batt)\n",
    "\n",
    "tesla.battery.cells"
   ]
  },
  {
   "cell_type": "markdown",
   "metadata": {},
   "source": [
    "# Exercises"
   ]
  },
  {
   "cell_type": "markdown",
   "metadata": {},
   "source": [
    "### Exercise 1 - Turn the shopping cart program from yesterday into an object-oriented program\n",
    "\n",
    "The comments in the cell below are there as a guide for thinking about the problem. However, if you feel a different way is best for you and your own thought process, please do what feels best for you by all means."
   ]
  },
  {
   "cell_type": "code",
   "execution_count": 163,
   "metadata": {},
   "outputs": [],
   "source": [
    "from IPython.display import clear_output\n",
    "\n",
    "dict_cart = {} \n",
    "dict_cost = {}\n",
    "totalcostlist = []\n",
    "\n",
    "def seeItems():\n",
    "    clear_output()\n",
    "    for k,v in dict_cart.items():\n",
    "        print(f\"Item:{k}, Quantity:{v}\")\n",
    "    print(f'Your total is ${sum(totalcostlist)}')\n",
    "\n",
    "\n",
    "def addToShoppingCart():\n",
    "    clear_output()\n",
    "    product = input('What would you like to add?')\n",
    "    takenspace = input('How many of these would you like?')\n",
    "    dict_cart[product] = takenspace \n",
    "    itemcost = input('What is the total cost of your addition?')\n",
    "    dict_cost[product] = itemcost \n",
    "    totalcostlist.append(int(itemcost))\n",
    "    print(f'Successfully added {product}')\n",
    "\n",
    "\n",
    "def removeFromShoppingCart():\n",
    "    clear_output()\n",
    "    for k,v in dict_cost.items():\n",
    "        print(f\"Item:{k}, Quantity:{v}\")\n",
    "    print(f\"Your total is: ${sum(totalcostlist)}\")\n",
    "    inputwhichone = input(\"Which item would you like to remove?\")\n",
    "    if inputwhichone not in dict_cart.keys():\n",
    "            print(\"Sorry that item is not in your cart\")\n",
    "    else: \n",
    "        totalcostlist.append(-(int(dict_cost[inputwhichone])))\n",
    "        del dict_cart[inputwhichone]\n",
    "        del dict_cost[inputwhichone]\n",
    "        \n",
    "        print(f\"{inputwhichone} has been removed from your cart\")\n",
    "    \n",
    "        \n",
    "\n",
    "def goShopping():\n",
    "#     whole_foods = TryAgain(2,10,[])\n",
    "    \n",
    "    \n",
    "    while True:\n",
    "        shopping = input(\"Please Type 'Show' to see items, 'Add' to add entries, 'Remove' to remove entries, and 'Quit' to quit\")\n",
    "\n",
    "        if shopping.lower() == 'add':\n",
    "            addToShoppingCart()\n",
    "        elif shopping.lower() == 'show':\n",
    "            seeItems()\n",
    "        elif shopping.lower() == 'remove':\n",
    "            removeFromShoppingCart()\n",
    "        elif shopping.lower() == 'quit':    \n",
    "            for k,v in dict_cost.items():\n",
    "                print(f\"Item:{k}, Quantity:{v}\")\n",
    "            AreYouSure = input(\"Are you sure? (Changes are final) Y/N\")\n",
    "            if AreYouSure.lower() == \"y\":\n",
    "                clear_output()\n",
    "                break\n",
    "            \n",
    "\n",
    "goShopping()"
   ]
  },
  {
   "cell_type": "markdown",
   "metadata": {},
   "source": [
    "### Exercise 2 - Write a Python class which has two methods get_String and print_String. get_String accept a string from the user and print_String print the string in upper case"
   ]
  },
  {
   "cell_type": "code",
   "execution_count": 170,
   "metadata": {},
   "outputs": [
    {
     "name": "stdout",
     "output_type": "stream",
     "text": [
      "OK\n"
     ]
    }
   ],
   "source": [
    "class theFirst:\n",
    "    \n",
    "    def __init__(self, thestring):\n",
    "        self.thestring = thestring\n",
    "    \"\"\"\n",
    "        class expects a string. get_string allows the user to create a new string to over-write the old one. \n",
    "        print_string prints whatever the string is.\n",
    "    \"\"\"\n",
    "    \n",
    "    \n",
    "    def get_string(self):\n",
    "        self.thestring = input(\"Please enter your new string\")\n",
    "    def print_string(self):\n",
    "        print(self.thestring.upper())\n",
    "        \n",
    "Me = theFirst(\"OK\")    \n",
    "\n",
    "Me.print_string()\n",
    "        "
   ]
  },
  {
   "cell_type": "code",
   "execution_count": 175,
   "metadata": {},
   "outputs": [
    {
     "name": "stdout",
     "output_type": "stream",
     "text": [
      "Please Type 'Show' to see items, 'Add' to add entries, 'Remove' to remove entries, and 'Quit' to quitadd\n"
     ]
    },
    {
     "ename": "AttributeError",
     "evalue": "'TryAgain' object has no attribute 'addToShoppingCart'",
     "output_type": "error",
     "traceback": [
      "\u001b[1;31m---------------------------------------------------------------------------\u001b[0m",
      "\u001b[1;31mAttributeError\u001b[0m                            Traceback (most recent call last)",
      "\u001b[1;32m<ipython-input-175-5244cca6f4fd>\u001b[0m in \u001b[0;36m<module>\u001b[1;34m\u001b[0m\n\u001b[0;32m     64\u001b[0m \u001b[1;33m\u001b[0m\u001b[0m\n\u001b[0;32m     65\u001b[0m \u001b[1;33m\u001b[0m\u001b[0m\n\u001b[1;32m---> 66\u001b[1;33m \u001b[0mgoShopping\u001b[0m\u001b[1;33m(\u001b[0m\u001b[1;33m)\u001b[0m\u001b[1;33m\u001b[0m\u001b[1;33m\u001b[0m\u001b[0m\n\u001b[0m",
      "\u001b[1;32m<ipython-input-175-5244cca6f4fd>\u001b[0m in \u001b[0;36mgoShopping\u001b[1;34m()\u001b[0m\n\u001b[0;32m     50\u001b[0m \u001b[1;33m\u001b[0m\u001b[0m\n\u001b[0;32m     51\u001b[0m         \u001b[1;32mif\u001b[0m \u001b[0mshopping\u001b[0m\u001b[1;33m.\u001b[0m\u001b[0mlower\u001b[0m\u001b[1;33m(\u001b[0m\u001b[1;33m)\u001b[0m \u001b[1;33m==\u001b[0m \u001b[1;34m'add'\u001b[0m\u001b[1;33m:\u001b[0m\u001b[1;33m\u001b[0m\u001b[1;33m\u001b[0m\u001b[0m\n\u001b[1;32m---> 52\u001b[1;33m             \u001b[0mwhole_foods\u001b[0m\u001b[1;33m.\u001b[0m\u001b[0maddToShoppingCart\u001b[0m\u001b[1;33m(\u001b[0m\u001b[1;33m)\u001b[0m\u001b[1;33m\u001b[0m\u001b[1;33m\u001b[0m\u001b[0m\n\u001b[0m\u001b[0;32m     53\u001b[0m         \u001b[1;32melif\u001b[0m \u001b[0mshopping\u001b[0m\u001b[1;33m.\u001b[0m\u001b[0mlower\u001b[0m\u001b[1;33m(\u001b[0m\u001b[1;33m)\u001b[0m \u001b[1;33m==\u001b[0m \u001b[1;34m'show'\u001b[0m\u001b[1;33m:\u001b[0m\u001b[1;33m\u001b[0m\u001b[1;33m\u001b[0m\u001b[0m\n\u001b[0;32m     54\u001b[0m             \u001b[0mwhole_foods\u001b[0m\u001b[1;33m.\u001b[0m\u001b[0mseeItems\u001b[0m\u001b[1;33m(\u001b[0m\u001b[1;33m)\u001b[0m\u001b[1;33m\u001b[0m\u001b[1;33m\u001b[0m\u001b[0m\n",
      "\u001b[1;31mAttributeError\u001b[0m: 'TryAgain' object has no attribute 'addToShoppingCart'"
     ]
    }
   ],
   "source": [
    "from IPython.display import clear_output\n",
    "# Create a class called cart that retains items and has methods to add, remove, and show\n",
    "\n",
    "class TryAgain:\n",
    "    def __init__(self, purchases, total=0):\n",
    "        self.purchases = purchases\n",
    "        self.total = total\n",
    "\n",
    "def seeItems():\n",
    "    clear_output()\n",
    "    for k,v in self.purchases.items():\n",
    "        print(f\"Item:{k}, Quantity:{v}\")\n",
    "    print(f'Your total is ${sum(totalcostlist)}')\n",
    "\n",
    "\n",
    "def addToShoppingCart():\n",
    "    clear_output()\n",
    "    product = input('What would you like to add?')\n",
    "    takenspace = input('How many of these would you like?')\n",
    "    self.purchases[product] = takenspace \n",
    "    itemcost = input('What is the total cost of your addition?')\n",
    "    dict_cost[product] = itemcost \n",
    "    totalcostlist.append(int(itemcost))\n",
    "    print(f'Successfully added {product}')\n",
    "\n",
    "\n",
    "def removeFromShoppingCart():\n",
    "    clear_output()\n",
    "    for k,v in self.purchases.items():\n",
    "        print(f\"Item:{k}, Quantity:{v}\")\n",
    "    print(f\"Your total is: ${sum(totalcostlist)}\")\n",
    "    inputwhichone = input(\"Which item would you like to remove?\")\n",
    "    if inputwhichone not in self.purchases.keys():\n",
    "            print(\"Sorry that item is not in your cart\")\n",
    "    else: \n",
    "        totalcostlist.append(-(int(dict_cost[inputwhichone])))\n",
    "        del self.purchases[inputwhichone]\n",
    "        del dict_cost[inputwhichone]\n",
    "        \n",
    "        print(f\"{inputwhichone} has been removed from your cart\")\n",
    "    \n",
    "        \n",
    "\n",
    "def goShopping():\n",
    "    whole_foods = TryAgain({})\n",
    "    dict_cost = {}\n",
    "    \n",
    "    while True:\n",
    "        shopping = input(\"Please Type 'Show' to see items, 'Add' to add entries, 'Remove' to remove entries, and 'Quit' to quit\")\n",
    "\n",
    "        if shopping.lower() == 'add':\n",
    "            whole_foods.addToShoppingCart()\n",
    "        elif shopping.lower() == 'show':\n",
    "            whole_foods.seeItems()\n",
    "        elif shopping.lower() == 'remove':\n",
    "            whole_foods.removeFromShoppingCart()\n",
    "        elif shopping.lower() == 'quit':    \n",
    "            for k,v in dict_cost.items():\n",
    "                print(f\"Item:{k}, Quantity:{v}\")\n",
    "            AreYouSure = input(\"Are you sure? (Changes are final) Y/N\")\n",
    "            if AreYouSure.lower() == \"y\":\n",
    "                clear_output()\n",
    "                break\n",
    "            \n",
    "\n",
    "goShopping()"
   ]
  },
  {
   "cell_type": "code",
   "execution_count": null,
   "metadata": {},
   "outputs": [],
   "source": []
  }
 ],
 "metadata": {
  "kernelspec": {
   "display_name": "Python 3",
   "language": "python",
   "name": "python3"
  },
  "language_info": {
   "codemirror_mode": {
    "name": "ipython",
    "version": 3
   },
   "file_extension": ".py",
   "mimetype": "text/x-python",
   "name": "python",
   "nbconvert_exporter": "python",
   "pygments_lexer": "ipython3",
   "version": "3.8.8"
  }
 },
 "nbformat": 4,
 "nbformat_minor": 2
}
